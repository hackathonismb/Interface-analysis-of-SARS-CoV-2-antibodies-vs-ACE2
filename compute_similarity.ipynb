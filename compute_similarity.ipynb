{
 "cells": [
  {
   "cell_type": "code",
   "execution_count": null,
   "source": [
    "#!/usr/bin/env python\r\n",
    "\r\n",
    "import sys\r\n",
    "import time\r\n",
    "from pathlib import Path\r\n",
    "from collections import defaultdict\r\n",
    "\r\n",
    "import numpy as np\r\n",
    "import matplotlib\r\n",
    "import matplotlib.pyplot as plt\r\n",
    "import seaborn as sns\r\n",
    "from sklearn.metrics import pairwise_distances\r\n",
    "from sklearn.metrics.pairwise import pairwise_kernels\r\n",
    "from sklearn.metrics.pairwise import cosine_similarity\r\n",
    "from scipy.spatial.distance import cosine"
   ],
   "outputs": [],
   "metadata": {}
  },
  {
   "cell_type": "code",
   "execution_count": null,
   "source": [
    "start_time = time.time()\r\n",
    "# Script to compute similarity matrices for subregion electrostatics of each PDB. Will need to plot them too. Hmmm -> matrix heatmap.\r\n",
    "\r\n",
    "## Load the data ##\r\n",
    "\r\n",
    "pdbs = []\r\n",
    "potentials = {}\r\n",
    "data_folder = Path('data')\r\n",
    "with open(data_folder / 'all_spike_strs_regions_pot.csv', 'r') as f:\r\n",
    "    header = next(f).split(',')\r\n",
    "    print('column names:', header)\r\n",
    "    data = defaultdict(dict)\r\n",
    "    for line in f:\r\n",
    "        mm = line.split(',')\r\n",
    "\r\n",
    "        if len(mm) == 3:\r\n",
    "            key_AG, key_region, potential = mm\r\n",
    "            # key_region = int(key_region.split['_'][-1]) # transform region key to int?\r\n",
    "            data[key_AG].update({key_region: float(potential)})\r\n",
    "\r\n",
    "data = dict(data)"
   ],
   "outputs": [],
   "metadata": {}
  },
  {
   "cell_type": "code",
   "execution_count": null,
   "source": [
    "import pandas as pd\r\n",
    "df = pd.DataFrame(data).T\r\n",
    "df"
   ],
   "outputs": [],
   "metadata": {}
  },
  {
   "cell_type": "markdown",
   "source": [
    "Only a 98 have 21 regions defined: "
   ],
   "metadata": {}
  },
  {
   "cell_type": "code",
   "execution_count": null,
   "source": [
    "df.notna().sum(axis=1).value_counts().sort_index(ascending=False)"
   ],
   "outputs": [],
   "metadata": {}
  },
  {
   "cell_type": "code",
   "execution_count": null,
   "source": [
    "df = df.loc[:,'region_1':'region_19'].dropna()\r\n",
    "df"
   ],
   "outputs": [],
   "metadata": {}
  },
  {
   "cell_type": "markdown",
   "source": [
    "continue with remaining complete list of antigens"
   ],
   "metadata": {}
  },
  {
   "cell_type": "code",
   "execution_count": null,
   "source": [
    "def lower_triangle(df):\r\n",
    "    \"\"\"Compute the correlation matrix, returning only unique values.\"\"\"\r\n",
    "    lower_triangle = pd.DataFrame(\r\n",
    "        np.tril(np.ones(df.shape), -1)).astype(bool)\r\n",
    "    lower_triangle.index, lower_triangle.columns = df.index, df.columns\r\n",
    "    return df.where(lower_triangle)"
   ],
   "outputs": [],
   "metadata": {}
  },
  {
   "cell_type": "code",
   "execution_count": null,
   "source": [
    "dict_dist= {}\r\n",
    "metrics = ['cosine', 'euclidean', 'l2', 'manhattan', 'l1', 'hamming', 'chebyshev'] # 'jaccard' excluded as it's for binary data\r\n",
    "for _metric in metrics:\r\n",
    "    dict_dist[_metric] = pd.DataFrame(pairwise_distances(X=df, metric=_metric), index=df.index, columns=df.index)\r\n",
    "    dict_dist[_metric] = lower_triangle(dict_dist[_metric]).stack()\r\n",
    "df_metrics = pd.DataFrame(dict_dist)\r\n",
    "df_metrics"
   ],
   "outputs": [],
   "metadata": {}
  },
  {
   "cell_type": "markdown",
   "source": [
    "## Normalization\n",
    "\n",
    "$ z = \\frac{x - min(X)}{max(X)-min(X)}$\n",
    "\n",
    "where\n",
    "- $x$: a single correlation value of a metric\n",
    "- $X$: the set of correlations for a single metric\n",
    "- $z$: a singe *normalized* correlation value of a metric\n"
   ],
   "metadata": {}
  },
  {
   "cell_type": "code",
   "execution_count": null,
   "source": [
    "stats_metrics = df_metrics.describe()\r\n",
    "stats_metrics"
   ],
   "outputs": [],
   "metadata": {}
  },
  {
   "cell_type": "code",
   "execution_count": null,
   "source": [
    "X_min = stats_metrics.loc['min']\r\n",
    "X_max = stats_metrics.loc['max']"
   ],
   "outputs": [],
   "metadata": {}
  },
  {
   "cell_type": "code",
   "execution_count": null,
   "source": [
    "df_metrics_normalized = (df_metrics - X_min) / (X_max - X_min)\r\n",
    "df_metrics_normalized"
   ],
   "outputs": [],
   "metadata": {}
  },
  {
   "cell_type": "markdown",
   "source": [
    "## Plotting the mean metrics heatmap"
   ],
   "metadata": {}
  },
  {
   "cell_type": "code",
   "execution_count": null,
   "source": [
    "mean_metrics = df_metrics_normalized.mean(axis=1).unstack()\r\n",
    "mean_metrics"
   ],
   "outputs": [],
   "metadata": {}
  },
  {
   "cell_type": "code",
   "execution_count": null,
   "source": [
    "# Set up the matplotlib figure\r\n",
    "matplotlib.rc('xtick', labelsize=16)\r\n",
    "matplotlib.rc('ytick', labelsize=16)\r\n",
    "\r\n",
    "fig, ax = plt.subplots(figsize=(30,20)) \r\n",
    "\r\n",
    "ax = sns.heatmap(mean_metrics, annot=False, cmap=\"RdBu_r\", ax=ax) #annot=labels, fmt='',annot_kws={\"size\": 14}, cmap=\"RdBu_r\") #fmt=\"0.2f\",  cmap=\"RdBu_r\")"
   ],
   "outputs": [],
   "metadata": {}
  },
  {
   "cell_type": "code",
   "execution_count": null,
   "source": [],
   "outputs": [],
   "metadata": {}
  }
 ],
 "metadata": {
  "kernelspec": {
   "display_name": "isbm2021hack",
   "language": "python",
   "name": "isbm2021hack"
  },
  "language_info": {
   "codemirror_mode": {
    "name": "ipython",
    "version": 3
   },
   "file_extension": ".py",
   "mimetype": "text/x-python",
   "name": "python",
   "nbconvert_exporter": "python",
   "pygments_lexer": "ipython3",
   "version": "3.7.10"
  }
 },
 "nbformat": 4,
 "nbformat_minor": 4
}